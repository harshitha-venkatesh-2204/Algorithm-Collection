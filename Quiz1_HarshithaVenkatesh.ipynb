{
 "cells": [
  {
   "cell_type": "code",
   "execution_count": null,
   "metadata": {},
   "outputs": [],
   "source": [
    "def print_subsets_of_three(arr, n, subset, index):\n",
    "    # If the subset is of size 3, print it\n",
    "    if len(subset) == 3:\n",
    "        print(subset)\n",
    "        return\n",
    "\n",
    "    # If there are no more elements to include in the subset, return\n",
    "    if index == n:\n",
    "        return\n",
    "\n",
    "    # Include the current element in the subset and recurse\n",
    "    subset.append(arr[index])\n",
    "    print_subsets_of_three(arr, n, subset, index + 1)\n",
    "\n",
    "    # Exclude the current element from the subset and recurse\n",
    "    subset.pop()\n",
    "    print_subsets_of_three(arr, n, subset, index + 1)\n",
    "\n",
    "def find_subsets_of_three(arr):\n",
    "    n = len(arr)\n",
    "    if n < 3:\n",
    "        return\n",
    "\n",
    "    subset = []\n",
    "    print_subsets_of_three(arr, n, subset, 0)\n",
    "\n",
    "# Test Cases\n",
    "test_case_1 = [1, 2, 3, 4]\n",
    "test_case_2 = [7, 3]\n",
    "test_case_3 = [4, 1, 7, 4, 3, 9, 1, 5]\n",
    "\n",
    "print(\"Test Case 1:\")\n",
    "find_subsets_of_three(test_case_1)\n",
    "\n",
    "print(\"\\nTest Case 2:\")\n",
    "find_subsets_of_three(test_case_2)\n",
    "\n",
    "print(\"\\nTest Case 3:\")\n",
    "find_subsets_of_three(test_case_3)"
   ]
  }
 ],
 "metadata": {
  "language_info": {
   "name": "python"
  },
  "orig_nbformat": 4
 },
 "nbformat": 4,
 "nbformat_minor": 2
}
